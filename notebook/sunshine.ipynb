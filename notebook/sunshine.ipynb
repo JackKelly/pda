{
 "metadata": {
  "name": "sunshine"
 },
 "nbformat": 3,
 "nbformat_minor": 0,
 "worksheets": [
  {
   "cells": [
    {
     "cell_type": "code",
     "collapsed": false,
     "input": [
      "from __future__ import print_function, division\n",
      "import matplotlib.pylab as plt\n",
      "from pda.channel import Channel\n",
      "import pda.metoffice as metoffice\n",
      "import pandas as pd\n",
      "import numpy as np\n",
      "from scipy import stats\n"
     ],
     "language": "python",
     "outputs": [],
     "prompt_number": 1
    },
    {
     "cell_type": "markdown",
     "source": [
      "I've been using https://github.com/tkf/emacs-ipython-notebook\n",
      "\n",
      "Still to do:\n",
      "1. use something quicker than data_for_day = series[day.strftime('%Y-%m-%d')]\n",
      "2. take the code below and make a generalised correlation plotting\n",
      "   function which can take any weather data and any power data, with relevant\n",
      "   labels.\n",
      "3. Why did on_duration_per_day give a negative value for boiler merged\n",
      "   channel when pwr_threshold=50 ?\n",
      "4. Why does the solar channel have an insanely large max value?\n",
      "\n",
      "EIN todo:\n",
      "1. Find how to get help in another window\n",
      "2. Find how to jump to function definition (M-.)\n",
      "3. Find how to turn off auto complete\n",
      "4. How to use git\n",
      "5. Send .py to IPython.\n",
      "6. Lots of hints in https://github.com/tkf/emacs-ipython-notebook/wiki/Screenshots\n",
      "7. Turn off question when trying to save file\n",
      "8. How to rename variables?\n"
     ]
    },
    {
     "cell_type": "code",
     "collapsed": false,
     "input": [
      "print(\"Opening metoffice data...\")\n",
      "weather = metoffice.open_daily_xls('/data/metoffice/Heathrow_DailyData.xls')\n",
      "\n",
      "print(\"Opening power data...\")\n",
      "# 25 = lighting circuit\n",
      "# 8 = kitchen lights\n",
      "# 2 = boiler\n",
      "# 3 = solar\n",
      "lights = Channel('/data/mine/vadeec/jack-merged/channel_3.dat')\n",
      "# lights = Channel('/data/mine/vadeec/jack/137/channel_8.dat')\n",
      "\n",
      "print(\"Done\")\n",
      "\n",
      "print(lights)\n",
      "\n"
     ],
     "language": "python",
     "outputs": [
      {
       "output_type": "stream",
       "stream": "stdout",
       "text": [
        "Opening metoffice data...\n",
        "Opening power data...\n",
        "Done"
       ]
      },
      {
       "output_type": "stream",
       "stream": "stdout",
       "text": [
        "\n",
        "     start date = 2012-11-09 22:28:23+00:00\n",
        "       end date = 2013-05-01 12:01:43+01:00\n",
        "       duration = 172 days, 12:33:20\n",
        "  sample period =     6.0s\n",
        "total # samples = 1862132\n",
        "   dropout rate =    25.0%\n",
        "      max power = 32767.0W\n",
        "      min power =     0.0W\n",
        "     mode power =     0.0W\n"
       ]
      },
      {
       "output_type": "stream",
       "stream": "stdout",
       "text": [
        "\n"
       ]
      }
     ],
     "prompt_number": 10
    },
    {
     "cell_type": "code",
     "collapsed": false,
     "input": [
      "on = lights.on_duration_per_day(tz_convert='UTC', pwr_threshold=20)\n",
      "on"
     ],
     "language": "python",
     "outputs": [
      {
       "output_type": "stream",
       "stream": "stdout",
       "text": [
        "<class 'pandas.tseries.index.DatetimeIndex'>\n",
        "[2012-11-09 00:00:00, ..., 2013-05-01 00:00:00]\n",
        "Length: 174, Freq: D, Timezone: UTC\n"
       ]
      },
      {
       "html": [
        "<pre>\n",
        "&ltclass 'pandas.core.frame.DataFrame'&gt\n",
        "DatetimeIndex: 123 entries, 2012-11-10 00:00:00+00:00 to 2013-04-30 00:00:00+00:00\n",
        "Data columns (total 2 columns):\n",
        "on_duration    123  non-null values\n",
        "sample_size    123  non-null values\n",
        "dtypes: float64(1), int64(1)\n",
        "</pre>"
       ],
       "output_type": "pyout",
       "prompt_number": 11,
       "text": [
        "<class 'pandas.core.frame.DataFrame'>\n",
        "DatetimeIndex: 123 entries, 2012-11-10 00:00:00+00:00 to 2013-04-30 00:00:00+00:00\n",
        "Data columns (total 2 columns):\n",
        "on_duration    123  non-null values\n",
        "sample_size    123  non-null values\n",
        "dtypes: float64(1), int64(1)"
       ]
      }
     ],
     "prompt_number": 11
    },
    {
     "cell_type": "code",
     "collapsed": false,
     "input": [
      "on_dur_aligned, sun_aligned = on.on_duration.align(weather.sunshine.dropna(), join='inner')\n"
     ],
     "language": "python",
     "outputs": [],
     "prompt_number": 12
    },
    {
     "cell_type": "code",
     "collapsed": false,
     "input": [
      "#fit = np.polyfit(sun_aligned, on_dur_aligned, 1)\n",
      "#fit_fn = np.poly1d(fit)\n",
      "#ax.plot(sun_aligned, fit_fn(sun_aligned), '--k')\n",
      "\n",
      "fig = plt.figure()\n",
      "ax = fig.add_subplot(111)\n",
      "ax.plot(sun_aligned, on_dur_aligned, 'o', alpha=0.2)\n",
      "ax.set_xlabel('hours of sunshine')\n",
      "ax.set_ylabel('hours of solar thermal pump activity')\n",
      "\n",
      "slope, intercept, r_value, p_value, std_err = stats.linregress(sun_aligned.values, on_dur_aligned.values)\n",
      "\n",
      "xlim = ax.get_xlim()\n",
      "ax.plot(xlim, [intercept, intercept+(xlim[1]*slope)], 'k-')\n",
      "ax.annotate('$R^2 = {:.3f}$'.format(r_value**2), (8,8))\n",
      "\n",
      "ax"
     ],
     "language": "python",
     "outputs": [
      {
       "output_type": "pyout",
       "prompt_number": 14,
       "text": [
        "<matplotlib.axes.AxesSubplot at 0x1aaeb950>"
       ]
      },
      {
       "output_type": "display_data",
       "png": "[encoded data removed]"
      }
     ],
     "prompt_number": 14
    },
    {
     "cell_type": "code",
     "collapsed": false,
     "input": [],
     "language": "python",
     "outputs": []
    }
   ]
  }
 ]
}