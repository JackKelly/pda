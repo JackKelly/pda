{
 "metadata": {
  "name": "sunshine"
 },
 "nbformat": 3,
 "nbformat_minor": 0,
 "worksheets": [
  {
   "cells": [
    {
     "cell_type": "code",
     "collapsed": false,
     "input": [
      "from __future__ import print_function, division\n",
      "import matplotlib.pylab as plt\n",
      "from pda.channel import Channel\n",
      "import pda.metoffice as metoffice\n",
      "import pandas as pd\n",
      "import numpy as np\n",
      "from scipy import stats\n"
     ],
     "language": "python",
     "outputs": [],
     "prompt_number": 1
    },
    {
     "cell_type": "markdown",
     "source": [
      "I've been using https://github.com/tkf/emacs-ipython-notebook\n",
      "\n",
      "## Still to do:\n",
      "\n",
      "1. use something quicker than `data_for_day = series[day.strftime('%Y-%m-%d')]`\n",
      "2. take the code below and make a generalised correlation plotting\n",
      "   function which can take any weather data and any power data, with relevant\n",
      "   labels.\n",
      "3. Why did on_duration_per_day give a negative value for boiler merged\n",
      "   channel when pwr_threshold=50 ?\n",
      "4. Why does the solar channel have an insanely large max value?\n",
      "\n",
      "## EIN todo:\n",
      "\n",
      "1. Find how to get help in another window\n",
      "2. Find how to jump to function definition (M-.)\n",
      "3. Find how to turn off auto complete\n",
      "4. How to use git\n",
      "5. Send .py to IPython.\n",
      "6. Lots of hints in https://github.com/tkf/emacs-ipython-notebook/wiki/Screenshots\n",
      "7. Turn off question when trying to save file\n",
      "8. How to rename variables?\n"
     ]
    },
    {
     "cell_type": "code",
     "collapsed": false,
     "input": [
      "print(\"Opening metoffice data...\")\n",
      "weather = metoffice.open_daily_xls('/data/metoffice/Heathrow_DailyData.xls')\n",
      "\n",
      "print(\"Opening power data...\")\n",
      "# 25 = lighting circuit\n",
      "# 8 = kitchen lights\n",
      "# 2 = boiler\n",
      "# 3 = solar\n",
      "lights = Channel('/data/mine/vadeec/jack-merged/channel_8.dat')\n",
      "# lights = Channel('/data/mine/vadeec/jack/137/channel_8.dat')\n",
      "\n",
      "print(\"Done\")\n",
      "\n",
      "print(lights)\n",
      "\n"
     ],
     "language": "python",
     "outputs": [
      {
       "output_type": "stream",
       "stream": "stdout",
       "text": [
        "Opening metoffice data...\n",
        "Opening power data...\n",
        "Done"
       ]
      },
      {
       "output_type": "stream",
       "stream": "stdout",
       "text": [
        "\n",
        "     start date = 2012-11-12 18:24:46+00:00\n",
        "       end date = 2013-05-01 12:02:25+01:00\n",
        "       duration = 169 days, 16:37:39\n",
        "  sample period =     6.0s\n",
        "total # samples = 1815893\n",
        "   dropout rate =    25.7%\n",
        "      max power =  1325.0W\n",
        "      min power =     0.0W\n",
        "     mode power =     0.0W\n"
       ]
      },
      {
       "output_type": "stream",
       "stream": "stdout",
       "text": [
        "\n"
       ]
      }
     ],
     "prompt_number": 2
    },
    {
     "cell_type": "code",
     "collapsed": false,
     "input": [
      "on = lights.on_duration_per_day(tz_convert='UTC', pwr_threshold=20)\n",
      "on"
     ],
     "language": "python",
     "outputs": [
      {
       "output_type": "stream",
       "stream": "stdout",
       "text": [
        "<class 'pandas.tseries.index.DatetimeIndex'>\n",
        "[2012-11-12 00:00:00, ..., 2013-05-01 00:00:00]\n",
        "Length: 171, Freq: D, Timezone: UTC\n",
        "2012-11-13"
       ]
      },
      {
       "output_type": "stream",
       "stream": "stdout",
       "text": [
        " total= 0.328943014145 of which series[] 0.328180074692\n",
        "2012-11-14"
       ]
      },
      {
       "output_type": "stream",
       "stream": "stdout",
       "text": [
        " total= 0.331264019012 of which series[] 0.330739021301\n",
        "2012-11-15"
       ]
      },
      {
       "output_type": "stream",
       "stream": "stdout",
       "text": [
        " total= 0.335124969482 of which series[] 0.334573984146\n",
        "2012-11-17"
       ]
      },
      {
       "output_type": "stream",
       "stream": "stdout",
       "text": [
        " total= 0.338942050934 of which series[] 0.338405132294\n",
        "2012-11-21"
       ]
      },
      {
       "output_type": "stream",
       "stream": "stdout",
       "text": [
        " total= 0.334062099457 of which series[] 0.333577871323\n",
        "2012-11-22"
       ]
      },
      {
       "output_type": "stream",
       "stream": "stdout",
       "text": [
        " total= 0.337224006653 of which series[] 0.336701869965\n",
        "2012-11-27"
       ]
      },
      {
       "output_type": "stream",
       "stream": "stdout",
       "text": [
        " total= 0.336215019226 of which series[] 0.335744142532\n",
        "2012-11-28"
       ]
      },
      {
       "output_type": "stream",
       "stream": "stdout",
       "text": [
        " total= 0.337100982666 of which series[] 0.336498975754\n",
        "2012-11-29"
       ]
      },
      {
       "output_type": "stream",
       "stream": "stdout",
       "text": [
        " total= 0.313897132874 of which series[] 0.313372135162\n",
        "2012-11-30"
       ]
      },
      {
       "output_type": "stream",
       "stream": "stdout",
       "text": [
        " total= 0.304926872253 of which series[] 0.30442905426\n",
        "2012-12-01"
       ]
      },
      {
       "output_type": "stream",
       "stream": "stdout",
       "text": [
        " total= 0.303712129593 of which series[] 0.303219079971\n",
        "2012-12-02"
       ]
      },
      {
       "output_type": "stream",
       "stream": "stdout",
       "text": [
        " total= 0.305555105209 of which series[] 0.305036067963\n",
        "2012-12-13"
       ]
      },
      {
       "output_type": "stream",
       "stream": "stdout",
       "text": [
        " total= 0.303462982178 of which series[] 0.302839040756\n",
        "2012-12-15"
       ]
      },
      {
       "output_type": "stream",
       "stream": "stdout",
       "text": [
        " total= 0.302758932114 of which series[] 0.30215883255\n",
        "2012-12-16"
       ]
      },
      {
       "output_type": "stream",
       "stream": "stdout",
       "text": [
        " total= 0.304059028625 of which series[] 0.303510189056\n",
        "2012-12-23"
       ]
      },
      {
       "output_type": "stream",
       "stream": "stdout",
       "text": [
        " total= 0.302506923676 of which series[] 0.301810979843\n",
        "2012-12-24"
       ]
      },
      {
       "output_type": "stream",
       "stream": "stdout",
       "text": [
        " total= 0.309214830399 of which series[] 0.308557033539\n",
        "2012-12-25"
       ]
      },
      {
       "output_type": "stream",
       "stream": "stdout",
       "text": [
        " total= 0.304545879364 of which series[] 0.303916931152\n",
        "2012-12-26"
       ]
      },
      {
       "output_type": "stream",
       "stream": "stdout",
       "text": [
        " total= 0.308860778809 of which series[] 0.308258771896\n",
        "2012-12-27"
       ]
      },
      {
       "output_type": "stream",
       "stream": "stdout",
       "text": [
        " total= 0.307092905045 of which series[] 0.306597948074\n",
        "2012-12-28"
       ]
      },
      {
       "output_type": "stream",
       "stream": "stdout",
       "text": [
        " total= 0.303807020187 of which series[] 0.303308010101\n",
        "2012-12-29"
       ]
      },
      {
       "output_type": "stream",
       "stream": "stdout",
       "text": [
        " total= 0.304548025131 of which series[] 0.304061889648\n",
        "2012-12-30"
       ]
      },
      {
       "output_type": "stream",
       "stream": "stdout",
       "text": [
        " total= 0.304188966751 of which series[] 0.303630113602\n",
        "2012-12-31"
       ]
      },
      {
       "output_type": "stream",
       "stream": "stdout",
       "text": [
        " total= 0.304232120514 of which series[] 0.303595066071\n",
        "2013-01-01"
       ]
      },
      {
       "output_type": "stream",
       "stream": "stdout",
       "text": [
        " total= 0.304663181305 of which series[] 0.304081201553\n",
        "2013-01-02"
       ]
      },
      {
       "output_type": "stream",
       "stream": "stdout",
       "text": [
        " total= 0.304266929626 of which series[] 0.303703069687\n",
        "2013-01-03"
       ]
      },
      {
       "output_type": "stream",
       "stream": "stdout",
       "text": [
        " total= 0.30486702919 of which series[] 0.304296016693\n",
        "2013-01-04"
       ]
      },
      {
       "output_type": "stream",
       "stream": "stdout",
       "text": [
        " total= 0.308598995209 of which series[] 0.308069944382\n",
        "2013-01-05"
       ]
      },
      {
       "output_type": "stream",
       "stream": "stdout",
       "text": [
        " total= 0.308786869049 of which series[] 0.30827498436\n",
        "2013-01-06"
       ]
      },
      {
       "output_type": "stream",
       "stream": "stdout",
       "text": [
        " total= 0.303931951523 of which series[] 0.303389072418\n",
        "2013-01-07"
       ]
      },
      {
       "output_type": "stream",
       "stream": "stdout",
       "text": [
        " total= 0.303612947464 of which series[] 0.303117990494\n",
        "2013-01-08"
       ]
      },
      {
       "output_type": "stream",
       "stream": "stdout",
       "text": [
        " total= 0.304159879684 of which series[] 0.303633928299\n",
        "2013-01-09"
       ]
      },
      {
       "output_type": "stream",
       "stream": "stdout",
       "text": [
        " total= 0.30367898941 of which series[] 0.303152799606\n",
        "2013-01-18"
       ]
      },
      {
       "output_type": "stream",
       "stream": "stdout",
       "text": [
        " total= 0.304604053497 of which series[] 0.30406498909\n",
        "2013-01-19"
       ]
      },
      {
       "output_type": "stream",
       "stream": "stdout",
       "text": [
        " total= 0.303478002548 of which series[] 0.302937984467\n",
        "2013-01-20"
       ]
      },
      {
       "output_type": "stream",
       "stream": "stdout",
       "text": [
        " total= 0.303979873657 of which series[] 0.303473949432\n",
        "2013-01-21"
       ]
      },
      {
       "output_type": "stream",
       "stream": "stdout",
       "text": [
        " total= 0.303536176682 of which series[] 0.303060054779\n",
        "2013-01-22"
       ]
      },
      {
       "output_type": "stream",
       "stream": "stdout",
       "text": [
        " total= 0.304422140121 of which series[] 0.303910970688\n",
        "2013-01-23"
       ]
      },
      {
       "output_type": "stream",
       "stream": "stdout",
       "text": [
        " total= 0.304039955139 of which series[] 0.303528785706\n",
        "2013-01-24"
       ]
      },
      {
       "output_type": "stream",
       "stream": "stdout",
       "text": [
        " total= 0.304730892181 of which series[] 0.304234027863\n",
        "2013-01-25"
       ]
      },
      {
       "output_type": "stream",
       "stream": "stdout",
       "text": [
        " total= 0.303660869598 of which series[] 0.303153038025\n",
        "2013-01-26"
       ]
      },
      {
       "output_type": "stream",
       "stream": "stdout",
       "text": [
        " total= 0.304265022278 of which series[] 0.303759098053\n",
        "2013-01-27"
       ]
      },
      {
       "output_type": "stream",
       "stream": "stdout",
       "text": [
        " total= 0.303492069244 of which series[] 0.302955150604\n",
        "2013-02-06"
       ]
      },
      {
       "output_type": "stream",
       "stream": "stdout",
       "text": [
        " total= 0.301828861237 of which series[] 0.301258802414\n",
        "2013-02-09"
       ]
      },
      {
       "output_type": "stream",
       "stream": "stdout",
       "text": [
        " total= 0.303462982178 of which series[] 0.302920103073\n",
        "2013-02-10"
       ]
      },
      {
       "output_type": "stream",
       "stream": "stdout",
       "text": [
        " total= 0.30175614357 of which series[] 0.301198005676\n",
        "2013-02-14"
       ]
      },
      {
       "output_type": "stream",
       "stream": "stdout",
       "text": [
        " total= 0.30215716362 of which series[] 0.301625967026\n",
        "2013-02-15"
       ]
      },
      {
       "output_type": "stream",
       "stream": "stdout",
       "text": [
        " total= 0.302128076553 of which series[] 0.301598072052\n",
        "2013-02-16"
       ]
      },
      {
       "output_type": "stream",
       "stream": "stdout",
       "text": [
        " total= 0.302057027817 of which series[] 0.301508188248\n",
        "2013-02-17"
       ]
      },
      {
       "output_type": "stream",
       "stream": "stdout",
       "text": [
        " total= 0.300868034363 of which series[] 0.300313949585\n",
        "2013-02-18"
       ]
      },
      {
       "output_type": "stream",
       "stream": "stdout",
       "text": [
        " total= 0.301768779755 of which series[] 0.30121588707\n",
        "2013-02-19"
       ]
      },
      {
       "output_type": "stream",
       "stream": "stdout",
       "text": [
        " total= 0.301952123642 of which series[] 0.301239013672\n",
        "2013-02-20"
       ]
      },
      {
       "output_type": "stream",
       "stream": "stdout",
       "text": [
        " total= 0.303282022476 of which series[] 0.302659988403\n",
        "2013-02-21"
       ]
      },
      {
       "output_type": "stream",
       "stream": "stdout",
       "text": [
        " total= 0.302785873413 of which series[] 0.30232000351\n",
        "2013-02-22"
       ]
      },
      {
       "output_type": "stream",
       "stream": "stdout",
       "text": [
        " total= 0.303061962128 of which series[] 0.302557945251\n",
        "2013-02-23"
       ]
      },
      {
       "output_type": "stream",
       "stream": "stdout",
       "text": [
        " total= 0.301553964615 of which series[] 0.301036834717\n",
        "2013-02-24"
       ]
      },
      {
       "output_type": "stream",
       "stream": "stdout",
       "text": [
        " total= 0.309172868729 of which series[] 0.308643817902\n",
        "2013-02-25"
       ]
      },
      {
       "output_type": "stream",
       "stream": "stdout",
       "text": [
        " total= 0.30656504631 of which series[] 0.306044101715\n",
        "2013-02-26"
       ]
      },
      {
       "output_type": "stream",
       "stream": "stdout",
       "text": [
        " total= 0.302568912506 of which series[] 0.301986932755\n",
        "2013-02-27"
       ]
      },
      {
       "output_type": "stream",
       "stream": "stdout",
       "text": [
        " total= 0.303349018097 of which series[] 0.30263209343\n",
        "2013-02-28"
       ]
      },
      {
       "output_type": "stream",
       "stream": "stdout",
       "text": [
        " total= 0.302609920502 of which series[] 0.302068948746\n",
        "2013-03-01"
       ]
      },
      {
       "output_type": "stream",
       "stream": "stdout",
       "text": [
        " total= 0.306385040283 of which series[] 0.30561709404\n",
        "2013-03-02"
       ]
      },
      {
       "output_type": "stream",
       "stream": "stdout",
       "text": [
        " total= 0.305160045624 of which series[] 0.30454993248\n",
        "2013-03-03"
       ]
      },
      {
       "output_type": "stream",
       "stream": "stdout",
       "text": [
        " total= 0.302319049835 of which series[] 0.30178809166\n",
        "2013-03-04"
       ]
      },
      {
       "output_type": "stream",
       "stream": "stdout",
       "text": [
        " total= 0.302653074265 of which series[] 0.302118062973\n",
        "2013-03-05"
       ]
      },
      {
       "output_type": "stream",
       "stream": "stdout",
       "text": [
        " total= 0.309369087219 of which series[] 0.308832883835\n",
        "2013-03-06"
       ]
      },
      {
       "output_type": "stream",
       "stream": "stdout",
       "text": [
        " total= 0.345293998718 of which series[] 0.344768047333\n",
        "2013-03-07"
       ]
      },
      {
       "output_type": "stream",
       "stream": "stdout",
       "text": [
        " total= 0.336700201035 of which series[] 0.33603811264\n",
        "2013-03-08"
       ]
      },
      {
       "output_type": "stream",
       "stream": "stdout",
       "text": [
        " total= 0.344299077988 of which series[] 0.34370803833\n",
        "2013-03-09"
       ]
      },
      {
       "output_type": "stream",
       "stream": "stdout",
       "text": [
        " total= 0.334085941315 of which series[] 0.333362102509\n",
        "2013-03-12"
       ]
      },
      {
       "output_type": "stream",
       "stream": "stdout",
       "text": [
        " total= 0.337980031967 of which series[] 0.337335109711\n",
        "2013-03-13"
       ]
      },
      {
       "output_type": "stream",
       "stream": "stdout",
       "text": [
        " total= 0.337625980377 of which series[] 0.337046146393\n",
        "2013-03-14"
       ]
      },
      {
       "output_type": "stream",
       "stream": "stdout",
       "text": [
        " total= 0.337075948715 of which series[] 0.336504936218\n",
        "2013-03-15"
       ]
      },
      {
       "output_type": "stream",
       "stream": "stdout",
       "text": [
        " total= 0.341265916824 of which series[] 0.340658903122\n",
        "2013-03-16"
       ]
      },
      {
       "output_type": "stream",
       "stream": "stdout",
       "text": [
        " total= 0.338201999664 of which series[] 0.337527036667\n",
        "2013-03-17"
       ]
      },
      {
       "output_type": "stream",
       "stream": "stdout",
       "text": [
        " total= 0.339029073715 of which series[] 0.33849811554\n",
        "2013-03-18"
       ]
      },
      {
       "output_type": "stream",
       "stream": "stdout",
       "text": [
        " total= 0.345037221909 of which series[] 0.344459056854\n",
        "2013-03-19"
       ]
      },
      {
       "output_type": "stream",
       "stream": "stdout",
       "text": [
        " total= 0.353524923325 of which series[] 0.352849006653\n",
        "2013-03-20"
       ]
      },
      {
       "output_type": "stream",
       "stream": "stdout",
       "text": [
        " total= 0.315924882889 of which series[] 0.315426826477\n",
        "2013-03-22"
       ]
      },
      {
       "output_type": "stream",
       "stream": "stdout",
       "text": [
        " total= 0.308917045593 of which series[] 0.308387994766\n",
        "2013-03-23"
       ]
      },
      {
       "output_type": "stream",
       "stream": "stdout",
       "text": [
        " total= 0.308069944382 of which series[] 0.307580947876\n",
        "2013-03-24"
       ]
      },
      {
       "output_type": "stream",
       "stream": "stdout",
       "text": [
        " total= 0.302258014679 of which series[] 0.301541090012\n",
        "2013-03-25"
       ]
      },
      {
       "output_type": "stream",
       "stream": "stdout",
       "text": [
        " total= 0.308078050613 of which series[] 0.307497024536\n",
        "2013-03-26"
       ]
      },
      {
       "output_type": "stream",
       "stream": "stdout",
       "text": [
        " total= 0.310832977295 of which series[] 0.310247898102\n",
        "2013-03-27"
       ]
      },
      {
       "output_type": "stream",
       "stream": "stdout",
       "text": [
        " total= 0.301285982132 of which series[] 0.30068397522\n",
        "2013-03-28"
       ]
      },
      {
       "output_type": "stream",
       "stream": "stdout",
       "text": [
        " total= 0.317483186722 of which series[] 0.3170170784\n",
        "2013-03-29"
       ]
      },
      {
       "output_type": "stream",
       "stream": "stdout",
       "text": [
        " total= 0.299158811569 of which series[] 0.298055887222\n",
        "2013-03-30"
       ]
      },
      {
       "output_type": "stream",
       "stream": "stdout",
       "text": [
        " total= 0.301952123642 of which series[] 0.3014960289\n",
        "2013-03-31"
       ]
      },
      {
       "output_type": "stream",
       "stream": "stdout",
       "text": [
        " total= 0.309871912003 of which series[] 0.309423923492\n",
        "2013-04-01"
       ]
      },
      {
       "output_type": "stream",
       "stream": "stdout",
       "text": [
        " total= 0.301772117615 of which series[] 0.301307201385\n",
        "2013-04-02"
       ]
      },
      {
       "output_type": "stream",
       "stream": "stdout",
       "text": [
        " total= 0.300629854202 of which series[] 0.300129890442\n",
        "2013-04-03"
       ]
      },
      {
       "output_type": "stream",
       "stream": "stdout",
       "text": [
        " total= 0.317009925842 of which series[] 0.316475868225\n",
        "2013-04-04"
       ]
      },
      {
       "output_type": "stream",
       "stream": "stdout",
       "text": [
        " total= 0.300320148468 of which series[] 0.299782037735\n",
        "2013-04-05"
       ]
      },
      {
       "output_type": "stream",
       "stream": "stdout",
       "text": [
        " total= 0.301826953888 of which series[] 0.301311969757\n",
        "2013-04-06"
       ]
      },
      {
       "output_type": "stream",
       "stream": "stdout",
       "text": [
        " total= 0.306922197342 of which series[] 0.306435108185\n",
        "2013-04-07"
       ]
      },
      {
       "output_type": "stream",
       "stream": "stdout",
       "text": [
        " total= 0.302569150925 of which series[] 0.302088975906\n",
        "2013-04-08"
       ]
      },
      {
       "output_type": "stream",
       "stream": "stdout",
       "text": [
        " total= 0.300498962402 of which series[] 0.299979925156\n",
        "2013-04-09"
       ]
      },
      {
       "output_type": "stream",
       "stream": "stdout",
       "text": [
        " total= 0.309205055237 of which series[] 0.308632850647\n",
        "2013-04-10"
       ]
      },
      {
       "output_type": "stream",
       "stream": "stdout",
       "text": [
        " total= 0.300896883011 of which series[] 0.300398826599\n",
        "2013-04-11"
       ]
      },
      {
       "output_type": "stream",
       "stream": "stdout",
       "text": [
        " total= 0.302431106567 of which series[] 0.301918029785\n",
        "2013-04-12"
       ]
      },
      {
       "output_type": "stream",
       "stream": "stdout",
       "text": [
        " total= 0.307392835617 of which series[] 0.306904792786\n",
        "2013-04-13"
       ]
      },
      {
       "output_type": "stream",
       "stream": "stdout",
       "text": [
        " total= 0.301310062408 of which series[] 0.300769090652\n",
        "2013-04-14"
       ]
      },
      {
       "output_type": "stream",
       "stream": "stdout",
       "text": [
        " total= 0.299327135086 of which series[] 0.298768997192\n",
        "2013-04-15"
       ]
      },
      {
       "output_type": "stream",
       "stream": "stdout",
       "text": [
        " total= 0.314032077789 of which series[] 0.313519001007\n",
        "2013-04-16"
       ]
      },
      {
       "output_type": "stream",
       "stream": "stdout",
       "text": [
        " total= 0.300343036652 of which series[] 0.299817085266\n",
        "2013-04-17"
       ]
      },
      {
       "output_type": "stream",
       "stream": "stdout",
       "text": [
        " total= 0.302772045135 of which series[] 0.30223107338\n",
        "2013-04-18"
       ]
      },
      {
       "output_type": "stream",
       "stream": "stdout",
       "text": [
        " total= 0.306936979294 of which series[] 0.306432008743\n",
        "2013-04-19"
       ]
      },
      {
       "output_type": "stream",
       "stream": "stdout",
       "text": [
        " total= 0.302738904953 of which series[] 0.302166938782\n",
        "2013-04-20"
       ]
      },
      {
       "output_type": "stream",
       "stream": "stdout",
       "text": [
        " total= 0.302115917206 of which series[] 0.301592111588\n",
        "2013-04-21"
       ]
      },
      {
       "output_type": "stream",
       "stream": "stdout",
       "text": [
        " total= 0.310766935349 of which series[] 0.310231924057\n",
        "2013-04-22"
       ]
      },
      {
       "output_type": "stream",
       "stream": "stdout",
       "text": [
        " total= 0.308158874512 of which series[] 0.307585954666\n",
        "2013-04-23"
       ]
      },
      {
       "output_type": "stream",
       "stream": "stdout",
       "text": [
        " total= 0.308951854706 of which series[] 0.308362007141\n",
        "2013-04-24"
       ]
      },
      {
       "output_type": "stream",
       "stream": "stdout",
       "text": [
        " total= 0.318068027496 of which series[] 0.317589044571\n",
        "2013-04-25"
       ]
      },
      {
       "output_type": "stream",
       "stream": "stdout",
       "text": [
        " total= 0.301831007004 of which series[] 0.301332950592\n",
        "2013-04-26"
       ]
      },
      {
       "output_type": "stream",
       "stream": "stdout",
       "text": [
        " total= 0.300501823425 of which series[] 0.300020933151\n",
        "2013-04-27"
       ]
      },
      {
       "output_type": "stream",
       "stream": "stdout",
       "text": [
        " total= 0.308449029922 of which series[] 0.307822942734\n",
        "2013-04-28"
       ]
      },
      {
       "output_type": "stream",
       "stream": "stdout",
       "text": [
        " total= 0.303884983063 of which series[] 0.303306102753\n",
        "2013-04-29"
       ]
      },
      {
       "output_type": "stream",
       "stream": "stdout",
       "text": [
        " total= 0.302801847458 of which series[] 0.302218914032\n",
        "2013-04-30"
       ]
      },
      {
       "output_type": "stream",
       "stream": "stdout",
       "text": [
        " total= 0.306783914566 of which series[] 0.306230068207\n"
       ]
      },
      {
       "html": [
        "<pre>\n",
        "&ltclass 'pandas.core.frame.DataFrame'&gt\n",
        "DatetimeIndex: 119 entries, 2012-11-13 00:00:00+00:00 to 2013-04-30 00:00:00+00:00\n",
        "Data columns (total 2 columns):\n",
        "on_duration    119  non-null values\n",
        "sample_size    119  non-null values\n",
        "dtypes: float64(1), int64(1)\n",
        "</pre>"
       ],
       "output_type": "pyout",
       "prompt_number": 3,
       "text": [
        "<class 'pandas.core.frame.DataFrame'>\n",
        "DatetimeIndex: 119 entries, 2012-11-13 00:00:00+00:00 to 2013-04-30 00:00:00+00:00\n",
        "Data columns (total 2 columns):\n",
        "on_duration    119  non-null values\n",
        "sample_size    119  non-null values\n",
        "dtypes: float64(1), int64(1)"
       ]
      }
     ],
     "prompt_number": 3
    },
    {
     "cell_type": "code",
     "collapsed": false,
     "input": [
      "timeit lights.series['2013-04-30']"
     ],
     "language": "python",
     "outputs": [
      {
       "output_type": "stream",
       "stream": "stdout",
       "text": [
        "1 loops, best of 3: 335 ms per loop\n"
       ]
      }
     ],
     "prompt_number": 4
    },
    {
     "cell_type": "code",
     "collapsed": false,
     "input": [
      "target = np.datetime64('2012-11-14')\n",
      "np.where(lights.series.index < target)"
     ],
     "language": "python",
     "outputs": [
      {
       "output_type": "pyout",
       "prompt_number": 6,
       "text": [
        "(array([    0,     1,     2, ..., 16585, 16586, 16587]),)"
       ]
      }
     ],
     "prompt_number": 6
    },
    {
     "cell_type": "code",
     "collapsed": false,
     "input": [
      "on_dur_aligned, sun_aligned = on.on_duration.align(weather.sunshine.dropna(), join='inner')\n"
     ],
     "language": "python",
     "outputs": [],
     "prompt_number": 12
    },
    {
     "cell_type": "code",
     "collapsed": false,
     "input": [
      "#fit = np.polyfit(sun_aligned, on_dur_aligned, 1)\n",
      "#fit_fn = np.poly1d(fit)\n",
      "#ax.plot(sun_aligned, fit_fn(sun_aligned), '--k')\n",
      "\n",
      "fig = plt.figure()\n",
      "ax = fig.add_subplot(111)\n",
      "ax.plot(sun_aligned, on_dur_aligned, 'o', alpha=0.2)\n",
      "ax.set_xlabel('hours of sunshine')\n",
      "ax.set_ylabel('hours of solar thermal pump activity')\n",
      "\n",
      "slope, intercept, r_value, p_value, std_err = stats.linregress(sun_aligned.values, on_dur_aligned.values)\n",
      "\n",
      "xlim = ax.get_xlim()\n",
      "ax.plot(xlim, [intercept, intercept+(xlim[1]*slope)], 'k-')\n",
      "ax.annotate('$R^2 = {:.3f}$'.format(r_value**2), (8,8))\n",
      "\n",
      "ax"
     ],
     "language": "python",
     "outputs": [
      {
       "output_type": "pyout",
       "prompt_number": 14,
       "text": [
        "<matplotlib.axes.AxesSubplot at 0x1aaeb950>"
       ]
      },
      {
       "output_type": "display_data",
       "png": "[encoded data removed]"
      }
     ],
     "prompt_number": 14
    },
    {
     "cell_type": "code",
     "collapsed": false,
     "input": [
      "from IPython.display import Math, display\n",
      "display(Math('a^2'))"
     ],
     "language": "python",
     "outputs": [
      {
       "latex": [
        "$$a^2$$"
       ],
       "output_type": "display_data",
       "text": [
        "<IPython.core.display.Math at 0x3d9d590>"
       ]
      }
     ],
     "prompt_number": 9
    },
    {
     "cell_type": "code",
     "collapsed": false,
     "input": [],
     "language": "python",
     "outputs": []
    }
   ]
  }
 ]
}