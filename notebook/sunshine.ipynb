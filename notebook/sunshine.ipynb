{
 "metadata": {
  "name": "sunshine"
 },
 "nbformat": 3,
 "nbformat_minor": 0,
 "worksheets": [
  {
   "cells": [
    {
     "cell_type": "code",
     "collapsed": false,
     "input": [
      "from __future__ import print_function, division\n",
      "import matplotlib.pylab as plt\n",
      "from pda.channel import Channel\n",
      "import pda.metoffice as metoffice\n",
      "import pandas as pd\n",
      "import numpy as np\n",
      "from scipy import stats\n",
      "import time\n"
     ],
     "language": "python",
     "metadata": {},
     "outputs": [],
     "prompt_number": 2
    },
    {
     "cell_type": "markdown",
     "metadata": {},
     "source": [
      "- I've been using https://github.com/tkf/emacs-ipython-notebook\n",
      "- Run notebook with `ipython notebook --pylab=inline --profile=sympy`\n",
      "\n",
      "## Still to do:\n",
      "\n",
      "- take the code below and make a generalised correlation plotting\n",
      "  function which can take any weather data and any power data, with relevant\n",
      "  labels.\n",
      "\n",
      "## EIN todo:\n",
      "\n",
      "1. Find how to get help in another window\n",
      "2. Find how to jump to function definition (M-.)\n",
      "3. Find how to turn off auto complete\n",
      "4. How to use git\n",
      "5. Send .py to IPython.\n",
      "6. Lots of hints in https://github.com/tkf/emacs-ipython-notebook/wiki/Screenshots\n",
      "7. Turn off question when trying to save file\n",
      "8. How to rename variables?\n"
     ]
    },
    {
     "cell_type": "code",
     "collapsed": false,
     "input": [
      "print(\"Opening metoffice data...\")\n",
      "weather = metoffice.open_daily_xls('/data/metoffice/Heathrow_DailyData.xls')\n",
      "\n",
      "print(\"Opening power data...\")\n",
      "# 25 = lighting circuit\n",
      "# 8 = kitchen lights\n",
      "# 2 = boiler\n",
      "# 3 = solar\n",
      "t1 = time.time()\n",
      "lights = Channel('/data/mine/vadeec/jack-merged/channel_3.dat')\n",
      "t2 = time.time()\n",
      "print(t2-t1)\n",
      "#lights = Channel('/data/mine/vadeec/jack/137/channel_8.dat')\n",
      "\n",
      "print(\"Done\")\n",
      "\n",
      "# print(lights)\n",
      "\n"
     ],
     "language": "python",
     "metadata": {},
     "outputs": [
      {
       "output_type": "stream",
       "stream": "stdout",
       "text": [
        "Opening metoffice data...\n",
        "Opening power data...\n",
        "15.4984929562"
       ]
      },
      {
       "output_type": "stream",
       "stream": "stdout",
       "text": [
        "\n",
        "Done\n"
       ]
      }
     ],
     "prompt_number": 27
    },
    {
     "cell_type": "code",
     "collapsed": false,
     "input": [
      "def f():\n",
      "    with open('/data/mine/vadeec/jack-merged/channel_3.dat') as f:\n",
      "    \t lines = f.readlines()\n",
      "    \n",
      "    data = np.empty((len(lines), 2), \n",
      "                    [('datetime', datetime.datetime), ('power', int)])\n",
      "\n",
      "    for i in range(len(lines)):\n",
      "    \tline = lines[i]\n",
      "    \tdata[i] = (datetime.datetime.utcfromtimestamp(int(line[:10])), int(line[11:-1]))\n",
      "\n",
      "    return data\n",
      "\n",
      "t1 = time.time()\n",
      "%prun df = f()\n",
      "t2= time.time()\n",
      "print(t2-t1)\n",
      "\n",
      "# [0.57279372215271, 8.906863689422607, 2.5847325325012207, 11.607014656066895]\n",
      "\n"
     ],
     "language": "python",
     "metadata": {},
     "outputs": [
      {
       "output_type": "stream",
       "stream": "stdout",
       "text": [
        "17.1993319988\n",
        "\n"
       ]
      }
     ],
     "prompt_number": 14
    },
    {
     "cell_type": "code",
     "collapsed": false,
     "input": [
      "on = lights.on_duration_per_day(tz_convert='UTC', pwr_threshold=20)\n",
      "on"
     ],
     "language": "python",
     "metadata": {},
     "outputs": [
      {
       "output_type": "stream",
       "stream": "stdout",
       "text": [
        "<class 'pandas.tseries.index.DatetimeIndex'>\n",
        "[2012-11-09 00:00:00, ..., 2013-05-01 00:00:00]\n",
        "Length: 174, Freq: D, Timezone: UTC\n",
        "Insufficient samples for 2012-11-09 ; samples = 898 dropout_rate = 93.76%\n",
        "                 start = 2012-11-09 22:28:23+00:00\n",
        "                   end = 2012-11-09 23:59:55+00:00\n",
        "Insufficient samples for 2012-11-10 ; samples = 6506 dropout_rate = 54.82%\n",
        "                 start = 2012-11-10 00:00:01+00:00\n",
        "                   end = 2012-11-10 23:59:51+00:00\n",
        "Insufficient samples for 2012-11-11 ; samples = 6815 dropout_rate = 52.67%\n",
        "                 start = 2012-11-11 00:00:09+00:00\n",
        "                   end = 2012-11-11 23:59:59+00:00\n",
        "Insufficient samples for 2012-11-12 ; samples = 8096 dropout_rate = 43.78%\n",
        "                 start = 2012-11-12 00:00:11+00:00\n",
        "                   end = 2012-11-12 23:59:59+00:00\n",
        "Insufficient samples for 2012-11-16 ; samples = 10741 dropout_rate = 25.41%\n",
        "                 start = 2012-11-16 00:00:00+00:00\n",
        "                   end = 2012-11-16 23:59:54+00:00\n",
        "Insufficient samples for 2012-11-18 ; samples = 5654 dropout_rate = 60.74%\n",
        "                 start = 2012-11-18 00:00:00+00:00\n",
        "                   end = 2012-11-18 09:28:25+00:00\n",
        "Insufficient samples for 2012-11-19 ; samples = 2419 dropout_rate = 83.20%\n",
        "                 start = 2012-11-19 19:56:45+00:00\n",
        "                   end = 2012-11-19 23:59:54+00:00\n",
        "Insufficient samples for 2012-11-20 ; samples = 9750 dropout_rate = 32.29%\n",
        "                 start = 2012-11-20 00:00:01+00:00\n",
        "                   end = 2012-11-20 23:59:55+00:00\n",
        "Insufficient samples for 2012-11-23 ; samples = 10853 dropout_rate = 24.63%\n",
        "                 start = 2012-11-23 00:00:03+00:00\n",
        "                   end = 2012-11-23 19:31:27+00:00\n",
        "No data available for    2012-11-24\n",
        "No data available for    2012-11-25\n",
        "Insufficient samples for 2012-11-26 ; samples = 6148 dropout_rate = 57.31%\n",
        "                 start = 2012-11-26 13:03:36+00:00\n",
        "                   end = 2012-11-26 23:59:54+00:00\n",
        "Insufficient samples for 2012-12-03 ; samples = 5871 dropout_rate = 59.23%\n",
        "                 start = 2012-12-03 00:00:04+00:00\n",
        "                   end = 2012-12-03 10:04:43+00:00\n",
        "No data available for    2012-12-04\n",
        "No data available for    2012-12-05\n",
        "No data available for    2012-12-06\n",
        "No data available for    2012-12-07\n",
        "No data available for    2012-12-08\n",
        "No data available for    2012-12-09\n",
        "No data available for    2012-12-10\n",
        "No data available for    2012-12-11\n",
        "Insufficient samples for 2012-12-12 ; samples = 6646 dropout_rate = 53.85%\n",
        "                 start = 2012-12-12 12:48:34+00:00\n",
        "                   end = 2012-12-12 23:59:56+00:00\n",
        "Insufficient samples for 2012-12-14 ; samples = 6307 dropout_rate = 56.20%\n",
        "                 start = 2012-12-14 00:00:04+00:00\n",
        "                   end = 2012-12-14 23:59:57+00:00\n",
        "Insufficient samples for"
       ]
      },
      {
       "output_type": "stream",
       "stream": "stdout",
       "text": [
        " 2012-12-17 ; samples = 10751 dropout_rate = 25.34%\n",
        "                 start = 2012-12-17 00:00:00+00:00\n",
        "                   end = 2012-12-17 18:10:41+00:00\n",
        "No data available for    2012-12-18\n",
        "No data available for    2012-12-19\n",
        "No data available for    2012-12-20\n",
        "No data available for    2012-12-21\n",
        "Insufficient samples for 2012-12-22 ; samples = 4272 dropout_rate = 70.33%\n",
        "                 start = 2012-12-22 16:46:30+00:00\n",
        "                   end = 2012-12-22 23:59:54+00:00\n",
        "Insufficient samples for 2013-01-10 ; samples = 6758 dropout_rate = 53.07%\n",
        "                 start = 2013-01-10 00:00:01+00:00\n",
        "                   end = 2013-01-10 11:32:16+00:00\n",
        "No data available for    2013-01-11\n",
        "No data available for    2013-01-12\n",
        "No data available for    2013-01-13\n",
        "No data available for    2013-01-14\n",
        "No data available for    2013-01-15\n",
        "No data available for    2013-01-16\n",
        "Insufficient samples for 2013-01-17 ; samples = 3784 dropout_rate = 73.72%\n",
        "                 start = 2013-01-17 17:38:32+00:00\n",
        "                   end = 2013-01-17 23:59:58+00:00\n",
        "Insufficient samples for 2013-01-28 ; samples = 5862 dropout_rate = 59.29%\n",
        "                 start = 2013-01-28 00:00:02+00:00\n",
        "                   end = 2013-01-28 23:59:57+00:00\n",
        "Insufficient samples for 2013-01-29 ; samples = 8390 dropout_rate = 41.74%\n",
        "                 start = 2013-01-29 00:00:03+00:00\n",
        "                   end = 2013-01-29 19:35:15+00:00\n",
        "Insufficient samples for 2013-01-30 ; samples = 440 dropout_rate = 96.94%\n",
        "                 start = 2013-01-30 10:53:07+00:00\n",
        "                   end = 2013-01-30 12:47:38+00:00\n",
        "No data available for    2013-01-31\n",
        "Insufficient samples for"
       ]
      },
      {
       "output_type": "stream",
       "stream": "stdout",
       "text": [
        " 2013-02-01 ; samples = 4774 dropout_rate = 66.85%\n",
        "                 start = 2013-02-01 11:07:58+00:00\n",
        "                   end = 2013-02-01 23:59:55+00:00\n",
        "Insufficient samples for 2013-02-02 ; samples = 5993 dropout_rate = 58.38%\n",
        "                 start = 2013-02-02 00:00:01+00:00\n",
        "                   end = 2013-02-02 23:59:58+00:00\n",
        "Insufficient samples for 2013-02-03 ; samples = 10783 dropout_rate = 25.12%\n",
        "                 start = 2013-02-03 00:00:04+00:00\n",
        "                   end = 2013-02-03 19:07:54+00:00\n",
        "Insufficient samples for 2013-02-04 ; samples = 3482 dropout_rate = 75.82%\n",
        "                 start = 2013-02-04 07:43:09+00:00\n",
        "                   end = 2013-02-04 14:05:47+00:00\n",
        "Insufficient samples for 2013-02-05 ; samples = 4915 dropout_rate = 65.87%\n",
        "                 start = 2013-02-05 15:29:29+00:00\n",
        "                   end = 2013-02-05 23:59:55+00:00\n",
        "Insufficient samples for 2013-02-07 ; samples = 2350 dropout_rate = 83.68%\n",
        "                 start = 2013-02-07 00:00:04+00:00\n",
        "                   end = 2013-02-07 04:00:04+00:00\n",
        "Insufficient samples for 2013-02-08 ; samples = 3490 dropout_rate = 75.76%\n",
        "                 start = 2013-02-08 18:05:51+00:00\n",
        "                   end = 2013-02-08 23:59:58+00:00\n",
        "Insufficient samples for 2013-02-11 ; samples = 7683 dropout_rate = 46.65%\n",
        "                 start = 2013-02-11 00:00:03+00:00\n",
        "                   end = 2013-02-11 13:01:24+00:00\n",
        "Insufficient samples for 2013-02-12 ; samples = 4118 dropout_rate = 71.40%\n",
        "                 start = 2013-02-12 10:42:12+00:00\n",
        "                   end = 2013-02-12 22:31:39+00:00\n",
        "Insufficient samples for 2013-02-13 ; samples = 7580 dropout_rate = 47.36%\n",
        "                 start = 2013-02-13 11:10:19+00:00\n",
        "                   end = 2013-02-13 23:59:55+00:00\n",
        "Insufficient samples for 2013-03-10 ; samples = 4280 dropout_rate = 70.28%\n",
        "                 start = 2013-03-10 00:00:03+00:00\n",
        "                   end = 2013-03-10 07:37:38+00:00\n",
        "Insufficient samples for 2013-03-11 ; samples = 7937 dropout_rate = 44.88%\n",
        "                 start = 2013-03-11 10:17:44+00:00\n",
        "                   end = 2013-03-11 23:59:58+00:00\n"
       ]
      },
      {
       "html": [
        "<pre>\n",
        "&ltclass 'pandas.core.frame.DataFrame'&gt\n",
        "DatetimeIndex: 120 entries, 2012-11-13 00:00:00+00:00 to 2013-04-30 00:00:00+00:00\n",
        "Data columns (total 2 columns):\n",
        "on_duration    120  non-null values\n",
        "sample_size    120  non-null values\n",
        "dtypes: float64(1), int64(1)\n",
        "</pre>"
       ],
       "output_type": "pyout",
       "prompt_number": 16,
       "text": [
        "<class 'pandas.core.frame.DataFrame'>\n",
        "DatetimeIndex: 120 entries, 2012-11-13 00:00:00+00:00 to 2013-04-30 00:00:00+00:00\n",
        "Data columns (total 2 columns):\n",
        "on_duration    120  non-null values\n",
        "sample_size    120  non-null values\n",
        "dtypes: float64(1), int64(1)"
       ]
      }
     ],
     "prompt_number": 16
    },
    {
     "cell_type": "code",
     "collapsed": false,
     "input": [
      "on_dur_aligned, sun_aligned = on.on_duration.align(weather.radiation.dropna(), join='inner')\n"
     ],
     "language": "python",
     "metadata": {},
     "outputs": [],
     "prompt_number": 17
    },
    {
     "cell_type": "code",
     "collapsed": false,
     "input": [
      "fig = plt.figure()\n",
      "ax = fig.add_subplot(111)\n",
      "ax.plot(sun_aligned, on_dur_aligned, 'o', alpha=0.2)\n",
      "ax.set_xlabel('solar total global radiation $KJ/m^{2}$')\n",
      "ax.set_ylabel('hours of solar thermal pump activity')\n",
      "\n",
      "slope, intercept, r_value, p_value, std_err = stats.linregress(sun_aligned.values, \n",
      "                                                               on_dur_aligned.values)\n",
      "\n",
      "xlim = ax.get_xlim()\n",
      "ylim = ax.get_ylim()\n",
      "ax.plot(xlim, [intercept, intercept+(xlim[1]*slope)], 'k-')\n",
      "ax.annotate('$R^2 = {:.3f}$'.format(r_value**2), ((xlim[1]-xlim[0])*0.8,\n",
      " \t\t    \t\t\t\t  (ylim[1]-ylim[0])*0.8))\n",
      "ax.set_ylim((0, ylim[1]))\n",
      "\n",
      "ax"
     ],
     "language": "python",
     "metadata": {},
     "outputs": [
      {
       "output_type": "pyout",
       "prompt_number": 23,
       "text": [
        "<matplotlib.axes.AxesSubplot at 0x9d92910>"
       ]
      },
      {
       "output_type": "display_data",
       "png": "[encoded data removed]"
      }
     ],
     "prompt_number": 23
    }
   ],
   "metadata": {}
  }
 ]
}